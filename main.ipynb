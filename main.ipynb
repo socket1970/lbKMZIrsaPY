{
 "cells": [
  {
   "cell_type": "code",
   "execution_count": 1,
   "id": "2c699f9b-584e-4ba3-9be2-cc52d38d09f0",
   "metadata": {},
   "outputs": [],
   "source": [
    "from cipherRSA import *"
   ]
  },
  {
   "cell_type": "code",
   "execution_count": 2,
   "id": "bb41acc9-00ab-4908-805c-b2d33677487d",
   "metadata": {},
   "outputs": [
    {
     "name": "stdout",
     "output_type": "stream",
     "text": [
      "приветмир\n"
     ]
    }
   ],
   "source": [
    "k = generateKey()\n",
    "\n",
    "m = \"приветмир\"\n",
    "e = encode(m, k[\"d\"], k[\"N\"])\n",
    "mE = decode(e, k[\"c\"], k[\"N\"])\n",
    "print(\"\".join(mE))"
   ]
  }
 ],
 "metadata": {
  "kernelspec": {
   "display_name": "Python 3 (ipykernel)",
   "language": "python",
   "name": "python3"
  },
  "language_info": {
   "codemirror_mode": {
    "name": "ipython",
    "version": 3
   },
   "file_extension": ".py",
   "mimetype": "text/x-python",
   "name": "python",
   "nbconvert_exporter": "python",
   "pygments_lexer": "ipython3",
   "version": "3.11.3"
  }
 },
 "nbformat": 4,
 "nbformat_minor": 5
}
